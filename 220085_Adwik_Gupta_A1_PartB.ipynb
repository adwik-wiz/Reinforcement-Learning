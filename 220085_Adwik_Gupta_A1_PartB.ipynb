{
  "cells": [
    {
      "cell_type": "markdown",
      "metadata": {
        "id": "-WuEfEVo2seo"
      },
      "source": [
        "# EE675A - Assignment 1"
      ]
    },
    {
      "cell_type": "markdown",
      "metadata": {
        "id": "i29hbFMG2ses"
      },
      "source": [
        "**Name:**  <br />\n",
        "**Roll No:**\n",
        "***\n",
        "## Instructions\n",
        "\n",
        "- **Release Date**: **21st Jan 2024**  \n",
        "- **Deadline**: **Part B : 4th Feb 2024 11:59PM**\n",
        "- Kindly name your submission files as `RollNo_Name_A1_PartB.ipynb`, based on the part you are submitting. Marks will be deducted for all submissions that do not follow the naming guidelines. <br />\n",
        "- You are required to work out your answers and submit only the iPython Notebook. The code should be well commented and easy to understand as there are marks for this. This notebook can be used as a template for assignment submission. <br />\n",
        "- Submissions are to be made through HelloIITK portal. Submissions made through mail will not be graded.<br />\n",
        "- Answers to the theory questions if any should be included in the notebook itself. While using special symbols use the $\\LaTeX$ mode <br />\n",
        "- Make sure your plots are clear and have title, legends and clear lines, etc. <br />\n",
        "- Plagiarism of any form will not be tolerated. If your solutions are found to match with other students or from other uncited sources, there will be heavy penalties and the incident will be reported to the disciplinary authorities. <br />\n",
        "- In case you have any doubts, feel free to reach out to TAs for help. <br />\n",
        "\n",
        "***\n",
        "## Introduction\n",
        "\n",
        "You are free to use parts of the given code but may also choose to write the whole thing on your own.  \n",
        "The illustrations for Part-B are adapted from [Alejandro's blog post](https://medium.com/@alejandro.aristizabal24/understanding-reinforcement-learning-hands-on-part-2-multi-armed-bandits-526592072bdc) on Multi-Armed Bandits. Throughout the course we will be using the [Gymnasium toolkit](https://gymnasium.farama.org/index.html) for the assignements so before starting you may want to go through the [basic usage](https://gymnasium.farama.org/content/basic_usage/) and basics of gymnasium and the installation procedure."
      ]
    },
    {
      "cell_type": "markdown",
      "metadata": {
        "id": "wON2nVET2set",
        "tags": []
      },
      "source": [
        "***\n",
        "# Part B: Multi-armed bandits\n",
        "## Demo and Preliminaries\n",
        "\n",
        "We will begin by getting familiar with the basic problem setup before we dig in to the actual assignement problems. Let's start by loading all the required libraries for this notebook. For generating plots you must have `ipympl` installed and `jupyter-matplotlib` extension installed and enabled."
      ]
    },
    {
      "cell_type": "code",
      "execution_count": 1,
      "metadata": {
        "colab": {
          "base_uri": "https://localhost:8080/"
        },
        "id": "H89KRE9N2seu",
        "outputId": "56c6f45e-5b2e-4a12-dbd0-f25047f1e83d"
      },
      "outputs": [
        {
          "name": "stdout",
          "output_type": "stream",
          "text": [
            "Requirement already satisfied: pip in c:\\users\\adwik\\appdata\\local\\packages\\pythonsoftwarefoundation.python.3.11_qbz5n2kfra8p0\\localcache\\local-packages\\python311\\site-packages (24.0)\n",
            "Requirement already satisfied: gymnasium in c:\\users\\adwik\\appdata\\local\\packages\\pythonsoftwarefoundation.python.3.11_qbz5n2kfra8p0\\localcache\\local-packages\\python311\\site-packages (0.29.1)\n",
            "Requirement already satisfied: numpy>=1.21.0 in c:\\users\\adwik\\appdata\\local\\packages\\pythonsoftwarefoundation.python.3.11_qbz5n2kfra8p0\\localcache\\local-packages\\python311\\site-packages (from gymnasium) (1.26.3)\n",
            "Requirement already satisfied: cloudpickle>=1.2.0 in c:\\users\\adwik\\appdata\\local\\packages\\pythonsoftwarefoundation.python.3.11_qbz5n2kfra8p0\\localcache\\local-packages\\python311\\site-packages (from gymnasium) (3.0.0)\n",
            "Requirement already satisfied: typing-extensions>=4.3.0 in c:\\users\\adwik\\appdata\\local\\packages\\pythonsoftwarefoundation.python.3.11_qbz5n2kfra8p0\\localcache\\local-packages\\python311\\site-packages (from gymnasium) (4.9.0)\n",
            "Requirement already satisfied: farama-notifications>=0.0.1 in c:\\users\\adwik\\appdata\\local\\packages\\pythonsoftwarefoundation.python.3.11_qbz5n2kfra8p0\\localcache\\local-packages\\python311\\site-packages (from gymnasium) (0.0.4)\n",
            "Requirement already satisfied: ipympl in c:\\users\\adwik\\appdata\\local\\packages\\pythonsoftwarefoundation.python.3.11_qbz5n2kfra8p0\\localcache\\local-packages\\python311\\site-packages (0.9.3)\n",
            "Requirement already satisfied: ipython<9 in c:\\users\\adwik\\appdata\\local\\packages\\pythonsoftwarefoundation.python.3.11_qbz5n2kfra8p0\\localcache\\local-packages\\python311\\site-packages (from ipympl) (8.20.0)\n",
            "Requirement already satisfied: numpy in c:\\users\\adwik\\appdata\\local\\packages\\pythonsoftwarefoundation.python.3.11_qbz5n2kfra8p0\\localcache\\local-packages\\python311\\site-packages (from ipympl) (1.26.3)\n",
            "Requirement already satisfied: ipython-genutils in c:\\users\\adwik\\appdata\\local\\packages\\pythonsoftwarefoundation.python.3.11_qbz5n2kfra8p0\\localcache\\local-packages\\python311\\site-packages (from ipympl) (0.2.0)\n",
            "Requirement already satisfied: pillow in c:\\users\\adwik\\appdata\\local\\packages\\pythonsoftwarefoundation.python.3.11_qbz5n2kfra8p0\\localcache\\local-packages\\python311\\site-packages (from ipympl) (10.2.0)\n",
            "Requirement already satisfied: traitlets<6 in c:\\users\\adwik\\appdata\\local\\packages\\pythonsoftwarefoundation.python.3.11_qbz5n2kfra8p0\\localcache\\local-packages\\python311\\site-packages (from ipympl) (5.14.1)\n",
            "Requirement already satisfied: ipywidgets<9,>=7.6.0 in c:\\users\\adwik\\appdata\\local\\packages\\pythonsoftwarefoundation.python.3.11_qbz5n2kfra8p0\\localcache\\local-packages\\python311\\site-packages (from ipympl) (8.1.1)\n",
            "Requirement already satisfied: matplotlib<4,>=3.4.0 in c:\\users\\adwik\\appdata\\local\\packages\\pythonsoftwarefoundation.python.3.11_qbz5n2kfra8p0\\localcache\\local-packages\\python311\\site-packages (from ipympl) (3.8.2)\n",
            "Requirement already satisfied: decorator in c:\\users\\adwik\\appdata\\local\\packages\\pythonsoftwarefoundation.python.3.11_qbz5n2kfra8p0\\localcache\\local-packages\\python311\\site-packages (from ipython<9->ipympl) (5.1.1)\n",
            "Requirement already satisfied: jedi>=0.16 in c:\\users\\adwik\\appdata\\local\\packages\\pythonsoftwarefoundation.python.3.11_qbz5n2kfra8p0\\localcache\\local-packages\\python311\\site-packages (from ipython<9->ipympl) (0.19.1)\n",
            "Requirement already satisfied: matplotlib-inline in c:\\users\\adwik\\appdata\\local\\packages\\pythonsoftwarefoundation.python.3.11_qbz5n2kfra8p0\\localcache\\local-packages\\python311\\site-packages (from ipython<9->ipympl) (0.1.6)\n",
            "Requirement already satisfied: prompt-toolkit<3.1.0,>=3.0.41 in c:\\users\\adwik\\appdata\\local\\packages\\pythonsoftwarefoundation.python.3.11_qbz5n2kfra8p0\\localcache\\local-packages\\python311\\site-packages (from ipython<9->ipympl) (3.0.43)\n",
            "Requirement already satisfied: pygments>=2.4.0 in c:\\users\\adwik\\appdata\\local\\packages\\pythonsoftwarefoundation.python.3.11_qbz5n2kfra8p0\\localcache\\local-packages\\python311\\site-packages (from ipython<9->ipympl) (2.17.2)\n",
            "Requirement already satisfied: stack-data in c:\\users\\adwik\\appdata\\local\\packages\\pythonsoftwarefoundation.python.3.11_qbz5n2kfra8p0\\localcache\\local-packages\\python311\\site-packages (from ipython<9->ipympl) (0.6.3)\n",
            "Requirement already satisfied: colorama in c:\\users\\adwik\\appdata\\local\\packages\\pythonsoftwarefoundation.python.3.11_qbz5n2kfra8p0\\localcache\\local-packages\\python311\\site-packages (from ipython<9->ipympl) (0.4.6)\n",
            "Requirement already satisfied: comm>=0.1.3 in c:\\users\\adwik\\appdata\\local\\packages\\pythonsoftwarefoundation.python.3.11_qbz5n2kfra8p0\\localcache\\local-packages\\python311\\site-packages (from ipywidgets<9,>=7.6.0->ipympl) (0.2.1)\n",
            "Requirement already satisfied: widgetsnbextension~=4.0.9 in c:\\users\\adwik\\appdata\\local\\packages\\pythonsoftwarefoundation.python.3.11_qbz5n2kfra8p0\\localcache\\local-packages\\python311\\site-packages (from ipywidgets<9,>=7.6.0->ipympl) (4.0.9)\n",
            "Requirement already satisfied: jupyterlab-widgets~=3.0.9 in c:\\users\\adwik\\appdata\\local\\packages\\pythonsoftwarefoundation.python.3.11_qbz5n2kfra8p0\\localcache\\local-packages\\python311\\site-packages (from ipywidgets<9,>=7.6.0->ipympl) (3.0.9)\n",
            "Requirement already satisfied: contourpy>=1.0.1 in c:\\users\\adwik\\appdata\\local\\packages\\pythonsoftwarefoundation.python.3.11_qbz5n2kfra8p0\\localcache\\local-packages\\python311\\site-packages (from matplotlib<4,>=3.4.0->ipympl) (1.2.0)\n",
            "Requirement already satisfied: cycler>=0.10 in c:\\users\\adwik\\appdata\\local\\packages\\pythonsoftwarefoundation.python.3.11_qbz5n2kfra8p0\\localcache\\local-packages\\python311\\site-packages (from matplotlib<4,>=3.4.0->ipympl) (0.12.1)\n",
            "Requirement already satisfied: fonttools>=4.22.0 in c:\\users\\adwik\\appdata\\local\\packages\\pythonsoftwarefoundation.python.3.11_qbz5n2kfra8p0\\localcache\\local-packages\\python311\\site-packages (from matplotlib<4,>=3.4.0->ipympl) (4.47.2)\n",
            "Requirement already satisfied: kiwisolver>=1.3.1 in c:\\users\\adwik\\appdata\\local\\packages\\pythonsoftwarefoundation.python.3.11_qbz5n2kfra8p0\\localcache\\local-packages\\python311\\site-packages (from matplotlib<4,>=3.4.0->ipympl) (1.4.5)\n",
            "Requirement already satisfied: packaging>=20.0 in c:\\users\\adwik\\appdata\\local\\packages\\pythonsoftwarefoundation.python.3.11_qbz5n2kfra8p0\\localcache\\local-packages\\python311\\site-packages (from matplotlib<4,>=3.4.0->ipympl) (23.2)\n",
            "Requirement already satisfied: pyparsing>=2.3.1 in c:\\users\\adwik\\appdata\\local\\packages\\pythonsoftwarefoundation.python.3.11_qbz5n2kfra8p0\\localcache\\local-packages\\python311\\site-packages (from matplotlib<4,>=3.4.0->ipympl) (3.1.1)\n",
            "Requirement already satisfied: python-dateutil>=2.7 in c:\\users\\adwik\\appdata\\local\\packages\\pythonsoftwarefoundation.python.3.11_qbz5n2kfra8p0\\localcache\\local-packages\\python311\\site-packages (from matplotlib<4,>=3.4.0->ipympl) (2.8.2)\n",
            "Requirement already satisfied: parso<0.9.0,>=0.8.3 in c:\\users\\adwik\\appdata\\local\\packages\\pythonsoftwarefoundation.python.3.11_qbz5n2kfra8p0\\localcache\\local-packages\\python311\\site-packages (from jedi>=0.16->ipython<9->ipympl) (0.8.3)\n",
            "Requirement already satisfied: wcwidth in c:\\users\\adwik\\appdata\\local\\packages\\pythonsoftwarefoundation.python.3.11_qbz5n2kfra8p0\\localcache\\local-packages\\python311\\site-packages (from prompt-toolkit<3.1.0,>=3.0.41->ipython<9->ipympl) (0.2.13)\n",
            "Requirement already satisfied: six>=1.5 in c:\\users\\adwik\\appdata\\local\\packages\\pythonsoftwarefoundation.python.3.11_qbz5n2kfra8p0\\localcache\\local-packages\\python311\\site-packages (from python-dateutil>=2.7->matplotlib<4,>=3.4.0->ipympl) (1.16.0)\n",
            "Requirement already satisfied: executing>=1.2.0 in c:\\users\\adwik\\appdata\\local\\packages\\pythonsoftwarefoundation.python.3.11_qbz5n2kfra8p0\\localcache\\local-packages\\python311\\site-packages (from stack-data->ipython<9->ipympl) (2.0.1)\n",
            "Requirement already satisfied: asttokens>=2.1.0 in c:\\users\\adwik\\appdata\\local\\packages\\pythonsoftwarefoundation.python.3.11_qbz5n2kfra8p0\\localcache\\local-packages\\python311\\site-packages (from stack-data->ipython<9->ipympl) (2.4.1)\n",
            "Requirement already satisfied: pure-eval in c:\\users\\adwik\\appdata\\local\\packages\\pythonsoftwarefoundation.python.3.11_qbz5n2kfra8p0\\localcache\\local-packages\\python311\\site-packages (from stack-data->ipython<9->ipympl) (0.2.2)\n",
            "Requirement already satisfied: matplotlib in c:\\users\\adwik\\appdata\\local\\packages\\pythonsoftwarefoundation.python.3.11_qbz5n2kfra8p0\\localcache\\local-packages\\python311\\site-packages (3.8.2)\n",
            "Requirement already satisfied: contourpy>=1.0.1 in c:\\users\\adwik\\appdata\\local\\packages\\pythonsoftwarefoundation.python.3.11_qbz5n2kfra8p0\\localcache\\local-packages\\python311\\site-packages (from matplotlib) (1.2.0)\n",
            "Requirement already satisfied: cycler>=0.10 in c:\\users\\adwik\\appdata\\local\\packages\\pythonsoftwarefoundation.python.3.11_qbz5n2kfra8p0\\localcache\\local-packages\\python311\\site-packages (from matplotlib) (0.12.1)\n",
            "Requirement already satisfied: fonttools>=4.22.0 in c:\\users\\adwik\\appdata\\local\\packages\\pythonsoftwarefoundation.python.3.11_qbz5n2kfra8p0\\localcache\\local-packages\\python311\\site-packages (from matplotlib) (4.47.2)\n",
            "Requirement already satisfied: kiwisolver>=1.3.1 in c:\\users\\adwik\\appdata\\local\\packages\\pythonsoftwarefoundation.python.3.11_qbz5n2kfra8p0\\localcache\\local-packages\\python311\\site-packages (from matplotlib) (1.4.5)\n",
            "Requirement already satisfied: numpy<2,>=1.21 in c:\\users\\adwik\\appdata\\local\\packages\\pythonsoftwarefoundation.python.3.11_qbz5n2kfra8p0\\localcache\\local-packages\\python311\\site-packages (from matplotlib) (1.26.3)\n",
            "Requirement already satisfied: packaging>=20.0 in c:\\users\\adwik\\appdata\\local\\packages\\pythonsoftwarefoundation.python.3.11_qbz5n2kfra8p0\\localcache\\local-packages\\python311\\site-packages (from matplotlib) (23.2)\n",
            "Requirement already satisfied: pillow>=8 in c:\\users\\adwik\\appdata\\local\\packages\\pythonsoftwarefoundation.python.3.11_qbz5n2kfra8p0\\localcache\\local-packages\\python311\\site-packages (from matplotlib) (10.2.0)\n",
            "Requirement already satisfied: pyparsing>=2.3.1 in c:\\users\\adwik\\appdata\\local\\packages\\pythonsoftwarefoundation.python.3.11_qbz5n2kfra8p0\\localcache\\local-packages\\python311\\site-packages (from matplotlib) (3.1.1)\n",
            "Requirement already satisfied: python-dateutil>=2.7 in c:\\users\\adwik\\appdata\\local\\packages\\pythonsoftwarefoundation.python.3.11_qbz5n2kfra8p0\\localcache\\local-packages\\python311\\site-packages (from matplotlib) (2.8.2)\n",
            "Requirement already satisfied: six>=1.5 in c:\\users\\adwik\\appdata\\local\\packages\\pythonsoftwarefoundation.python.3.11_qbz5n2kfra8p0\\localcache\\local-packages\\python311\\site-packages (from python-dateutil>=2.7->matplotlib) (1.16.0)\n",
            "Requirement already satisfied: tqdm in c:\\users\\adwik\\appdata\\local\\packages\\pythonsoftwarefoundation.python.3.11_qbz5n2kfra8p0\\localcache\\local-packages\\python311\\site-packages (4.66.1)\n",
            "Requirement already satisfied: colorama in c:\\users\\adwik\\appdata\\local\\packages\\pythonsoftwarefoundation.python.3.11_qbz5n2kfra8p0\\localcache\\local-packages\\python311\\site-packages (from tqdm) (0.4.6)\n"
          ]
        }
      ],
      "source": [
        "# Import necessary libraries\n",
        "!python.exe -m pip install --upgrade pip\n",
        "!pip install \"gymnasium\"\n",
        "!pip install ipympl\n",
        "!pip install matplotlib\n",
        "!pip install tqdm\n",
        "%matplotlib widget\n",
        "import numpy as np\n",
        "import matplotlib.pyplot as plt\n",
        "from matplotlib.animation import FuncAnimation\n",
        "import gymnasium as gym\n",
        "from tqdm import tqdm\n",
        "import time"
      ]
    },
    {
      "cell_type": "markdown",
      "metadata": {
        "id": "9O01qmZN2sev"
      },
      "source": [
        "## Scenario\n",
        "\n",
        "The Multi-Armed Bandit describes a situation in which an agent has only one state, and multiple actions to interact with the environment. Each action gives a random reward, centered on an unkown value. Our agent wants to maximize the reward received, which means it wants to find the action that yields a higher reward. Based on this, let's build the scenario.\n",
        "\n",
        "We're going to implement the multi-armed bandit environment using OpenAI's gym interface. Also, our implementation will be vectorized for the sake of optimization. This allows us to run multiple agents on multiple environments at the same time. The code below is based on [this implementation](https://github.com/diegoalejogm/openai-k-armed-bandits)"
      ]
    },
    {
      "cell_type": "code",
      "execution_count": 2,
      "metadata": {
        "id": "Vz6nX5I_2sev"
      },
      "outputs": [],
      "source": [
        "from gymnasium import spaces\n",
        "from gymnasium.utils import seeding\n",
        "import gymnasium as gym\n",
        "\n",
        "class ArmedBanditsEnv(gym.Env):\n",
        "    \"\"\"\n",
        "    The famous k-Armed Bandit Environment, implemented for the gym interface.\n",
        "    Initialization requires an array of length equals to k, where each item is\n",
        "    a function which samples from a specified distribution.\n",
        "    \"\"\"\n",
        "    metadata = {'render.modes': ['human']}\n",
        "\n",
        "    def __init__(self, mean, stddev):\n",
        "        assert len(mean.shape) == 2\n",
        "        assert len(stddev.shape) == 2\n",
        "\n",
        "        super(ArmedBanditsEnv, self).__init__()\n",
        "        # Define action and observation space\n",
        "        self.num_bandits = mean.shape[1]\n",
        "        self.num_experiments = mean.shape[0]\n",
        "        self.action_space = spaces.Discrete(self.num_bandits)\n",
        "\n",
        "        # Theres one state only in the k-armed bandits problem\n",
        "        self.observation_space = spaces.Discrete(1)\n",
        "        self.mean = mean\n",
        "        self.stddev = stddev\n",
        "\n",
        "    def step(self, action):\n",
        "        # Sample from the specified bandit using it's reward distribution\n",
        "        assert (action < self.num_bandits).all()\n",
        "\n",
        "        sampled_means = self.mean[np.arange(self.num_experiments),action]\n",
        "        sampled_stddevs = self.stddev[np.arange(self.num_experiments),action]\n",
        "\n",
        "        reward = np.random.normal(loc=sampled_means, scale=sampled_stddevs, size=(1,self.num_experiments))\n",
        "\n",
        "        # Return a constant state of 0. Our environment has no terminal state\n",
        "        observation, done, info = 0, False, dict()\n",
        "        return observation, reward, done, info\n",
        "\n",
        "    def reset(self):\n",
        "        return 0\n",
        "\n",
        "    def render(self, mode='human', close=False):\n",
        "        pass\n",
        "\n",
        "    def _seed(self, seed=None):\n",
        "        self.np_random, seed = seeding.np.random(seed)\n",
        "        return [seed]\n",
        "\n",
        "    def close(self):\n",
        "        pass\n",
        "\n",
        "\n",
        "class ArmedBanditsGaussian(ArmedBanditsEnv):\n",
        "    def __init__(self, num_experiments=1, num_bandits=3):\n",
        "        self.means = np.random.normal(size=(num_experiments, num_bandits))\n",
        "\n",
        "        ArmedBanditsEnv.__init__(self, self.means, np.ones((num_experiments, num_bandits)))"
      ]
    },
    {
      "cell_type": "markdown",
      "metadata": {
        "id": "fWmKZ0uX2sew"
      },
      "source": [
        "Here we're creating two classes, `ArmedBanditsEnv` is the main class, while `ArmedBanditsGaussian` is an auxiliary class that allows us to easily create an environment with random mean rewards for each action. Our environment receives numpy arrays for the means and standard deviations for each action. The dimensions of this arrays are described as `num_experiments`x`num_bandits`. Taking a step requires a numpy vector of size `num_experiments`, where each value specifies which action to take for each experiment. The step functions returns, among other information, a vector of reward obtained for each experiment. Let's see this in action:"
      ]
    },
    {
      "cell_type": "code",
      "execution_count": 7,
      "metadata": {
        "colab": {
          "base_uri": "https://localhost:8080/"
        },
        "id": "rc9rBv-T2sex",
        "outputId": "73f66c80-6c1b-4fc5-e7a8-b7f780f934c6"
      },
      "outputs": [
        {
          "name": "stdout",
          "output_type": "stream",
          "text": [
            "Bandit: 0  gave a reward of: [5.84558198]\n",
            "Bandit: 1  gave a reward of: [0.9771672]\n",
            "Bandit: 2  gave a reward of: [3.25251476]\n",
            "Bandit: 3  gave a reward of: [-10.47456515]\n"
          ]
        }
      ],
      "source": [
        "means = np.array([[5, 1, 0, -10]]) # The mean for a four-armed bandit. Single experiment\n",
        "stdev = np.array([[1, 0.1, 5, 1]]) # The standard deviation for a four-armed bandit.\n",
        "\n",
        "env = ArmedBanditsEnv(means, stdev) # Create the environment\n",
        "\n",
        "for i in range(4):\n",
        "    action = np.array([[i]])\n",
        "    _, reward, _, _ = env.step(action)\n",
        "    print(\"Bandit:\", i, \" gave a reward of:\", reward[0])"
      ]
    },
    {
      "cell_type": "markdown",
      "metadata": {
        "id": "tSsziz9u2sey"
      },
      "source": [
        "## Evaluating our actions"
      ]
    },
    {
      "cell_type": "markdown",
      "metadata": {
        "id": "P8g7dhvZ2sez"
      },
      "source": [
        "In order to learn something from our interaction with the environment, we need to know how exactly we determine the value of our actions, as well as how to keep that value up to date. A simple strategy our agents can take is to calculate the expected return for each action. This can be done through experience by taking the average of previous rewards given by a determined action.\n",
        "\n",
        "For example, we can use the next list of rewards to calculate the expected return of the chosen action:\n",
        "\n",
        "$\\bar{\\mu}_n = \\dfrac{R_1+R_2+\\dots+R_n}{n}$\n",
        "\n",
        "Having to store all the previously seen rewards to calculate the value of an action is cumbersome, inefficient and unnecessary. We can derive another form of average, called *Incremental average update rule*, which only requires us to know the previous average $\\bar{\\mu}_{n-1}$ and the number $n$:\n",
        "\n",
        "$\\bar{\\mu}_n = \\bar{\\mu}_{n-1} + \\dfrac{1}{n}(R_n - \\bar{\\mu}_{n-1})$\n",
        "\n",
        "Here's a small demonstration of this function at work"
      ]
    },
    {
      "cell_type": "code",
      "execution_count": null,
      "metadata": {
        "colab": {
          "base_uri": "https://localhost:8080/"
        },
        "id": "_hvBWbzZ2sez",
        "outputId": "645bd8fe-9160-4774-fdca-f02680baeb79"
      },
      "outputs": [],
      "source": [
        "def inc_avg(prev_avg, new_val, n):\n",
        "    return prev_avg + 1/n*(new_val - prev_avg)\n",
        "\n",
        "# Obtain the previous average\n",
        "vals = np.array([4.5, 5.04, 5.32, 4.8, 5.11])\n",
        "prev_avg = vals.mean()\n",
        "\n",
        "# Calculate a new average using the incremental average update function\n",
        "new_val = 5.18\n",
        "new_avg = inc_avg(prev_avg, new_val, 6)\n",
        "\n",
        "# Calculate the same average using all previous values for comparison\n",
        "avg = np.append(vals, new_val).mean()\n",
        "\n",
        "print(\"Average obtained from incremental update rule: \", new_avg)\n",
        "print(\"Average obtained from basic average function:  \", avg)"
      ]
    },
    {
      "cell_type": "markdown",
      "metadata": {
        "id": "di0QdX_n2sez"
      },
      "source": [
        "This method will be used on the next strategies"
      ]
    },
    {
      "cell_type": "markdown",
      "metadata": {
        "id": "hEuDOZ852se0"
      },
      "source": [
        "## The Greedy Agent\n",
        "\n",
        "This strategy is focused on always choosing the best known action at the time. Every time the agent takes an action, it looks at the estimated values for each action, and chooses the one that has a greater score. If more than two values look best, then the agent selects arbitrarily among those best-valued actions. This is called breaking ties arbitrarily\n",
        "\n",
        "Taking the action with the greatest value is equivalent to using the **argmax** function. Although, we need to implement some changes so that the funciton breaks the ties the way we intend it to do:"
      ]
    },
    {
      "cell_type": "code",
      "execution_count": null,
      "metadata": {
        "id": "IFNJoUd92se0"
      },
      "outputs": [],
      "source": [
        "def argmax(q_values):\n",
        "    \"\"\"\n",
        "    Takes in a matrix of n*k q_values and returns the index\n",
        "    of the item with the highest value for each row.\n",
        "    Breaks ties randomly.\n",
        "    returns: vector of size n, where each item is the index of\n",
        "    the highest value in q_values for each row.\n",
        "    \"\"\"\n",
        "    # Generate a mask of the max values for each row\n",
        "    mask = q_values == q_values.max(axis=1)[:, None]\n",
        "    # Generate noise to be added to the ties\n",
        "    r_noise = 1e-6*np.random.random(q_values.shape)\n",
        "    # Get the argmax of the noisy masked values\n",
        "    return np.argmax(r_noise*mask,axis=1)"
      ]
    },
    {
      "cell_type": "markdown",
      "metadata": {
        "id": "AfXWUrgO2se0"
      },
      "source": [
        "Here we're generating a mask of all the values in the input that are equal to the maximum value. Then ,we generate some noise and multiply it with the mask. Taking the argmax of this new list will be equivalent to the desired argmax with ties broken arbitrarily.\n",
        "\n",
        "Now that we have specified the argmax function, we can declare our class for the Greedy Agent, which is capable of acting upon the environment, and updating its estimates after receiving a reward."
      ]
    },
    {
      "cell_type": "code",
      "execution_count": null,
      "metadata": {
        "id": "dUjX3Vz02se1"
      },
      "outputs": [],
      "source": [
        "class GreedyAgent:\n",
        "    def __init__(self, reward_estimates):\n",
        "        \"\"\"\n",
        "        Our agent takes as input the initial reward estimates.\n",
        "        This estimates will be updated incrementally after each\n",
        "        interaction with the environment.\n",
        "        \"\"\"\n",
        "        assert len(reward_estimates.shape) == 2\n",
        "\n",
        "        self.num_bandits = reward_estimates.shape[1]\n",
        "        self.num_experiments = reward_estimates.shape[0]\n",
        "        self.reward_estimates = reward_estimates.astype(np.float64)\n",
        "        self.action_count = np.zeros(reward_estimates.shape)\n",
        "\n",
        "    def get_action(self):\n",
        "        # Our agent is greedy, so there's no need for exploration.\n",
        "        # Our argmax will do just fine for this situation\n",
        "        action = argmax(self.reward_estimates)\n",
        "\n",
        "        # Add a 1 to each action selected in the action count\n",
        "        self.action_count[np.arange(self.num_experiments), action] += 1\n",
        "\n",
        "        return action\n",
        "\n",
        "    def update_estimates(self, reward, action):\n",
        "        # rew is a matrix with the obtained rewards from our previuos\n",
        "        # action. Use this to update our estimates incrementally\n",
        "        n = self.action_count[np.arange(self.num_experiments), action]\n",
        "        prev_reward_estimates = self.reward_estimates[np.arange(self.num_experiments), action]\n",
        "\n",
        "        # Update the reward estimates incementally\n",
        "        self.reward_estimates[np.arange(self.num_experiments), action] = inc_avg(prev_reward_estimates,reward,n)"
      ]
    },
    {
      "cell_type": "markdown",
      "metadata": {
        "id": "GkLDTxGg2se1"
      },
      "source": [
        "The greedy agent contains a matrix for the estimates, as well as for the number of times each action has been taken. This is necessary for using the incremental average update rule, used inside the `update_estimates` function."
      ]
    },
    {
      "cell_type": "markdown",
      "metadata": {
        "id": "sQmJ4qtp2se1"
      },
      "source": [
        "### Testing the agent\n",
        "\n",
        "Let's see how the Greedy Agent behaves on the environment. For this, we're going to generate some animations where we're able to see how the agent estimates the values for each action, as well as the real values provided by the environment. Remember that the agent doesn't have access to that information."
      ]
    },
    {
      "cell_type": "code",
      "execution_count": null,
      "metadata": {
        "colab": {
          "base_uri": "https://localhost:8080/",
          "height": 417
        },
        "id": "Z_jM_1_W2se1",
        "outputId": "f7b7250a-d084-4e87-a924-dc87518c5ec1"
      },
      "outputs": [],
      "source": [
        "# Initialize the environment of our multi-armed bandit problem\n",
        "num_experiments = 2\n",
        "num_bandits = 8\n",
        "num_steps = 100\n",
        "means = np.random.normal(size=(num_experiments, num_bandits))\n",
        "stdev = np.ones((num_experiments, num_bandits))\n",
        "\n",
        "env = ArmedBanditsEnv(means, stdev)\n",
        "\n",
        "# Initialize the agent\n",
        "agent = GreedyAgent(np.zeros((num_experiments,num_bandits)))\n",
        "\n",
        "# Code for plotting the interaction\n",
        "fig, axs = plt.subplots(1, num_experiments, figsize=(10, 4))\n",
        "x_pos = np.arange(num_bandits)\n",
        "\n",
        "def init():\n",
        "    axa = [];\n",
        "    for i in range(num_experiments):\n",
        "        init_ax(i)\n",
        "        # axa.append(init_ax(i))\n",
        "    # return axa\n",
        "\n",
        "def init_ax(i):\n",
        "    ax = axs[i]\n",
        "    ax.clear()\n",
        "    ax.set_ylim(-4, 4)\n",
        "    ax.set_xlim(-0.5, num_bandits-.5)\n",
        "    ax.set_xlabel('Actions', fontsize=14)\n",
        "    ax.set_ylabel('Value', fontsize=14)\n",
        "    ax.set_title(label='Estimated Values vs. Real values', fontsize=15)\n",
        "    ax.plot(x_pos, env.mean[i], marker='D', linestyle='', alpha=0.8, color='r', label='Real Values')\n",
        "    ax.axhline(0, color='black', lw=1)\n",
        "    # return ax\n",
        "\n",
        "\n",
        "# Implement a step, which involves the agent acting upon the\n",
        "# environment and learning from the received reward.\n",
        "def step(g):\n",
        "    action = agent.get_action()\n",
        "    _, reward, _, _ = env.step(action)\n",
        "    agent.update_estimates(reward, action)\n",
        "    axa = []\n",
        "    for i in range(num_experiments):\n",
        "        ax = axs[i]\n",
        "        # Plot the estimated values from the agent compared to the real values\n",
        "        estimates = agent.reward_estimates[i]\n",
        "        init_ax(i)\n",
        "        values = ax.bar(x_pos, estimates, align='center', color='blue', alpha=0.4, label='Estimated Values')\n",
        "        ax.legend()\n",
        "        # axa.append(ax)\n",
        "    # return axa\n",
        "\n",
        "anim = FuncAnimation(fig, func=step, frames=num_steps, init_func=init, interval=10, repeat=False, blit=True)\n",
        "plt.show()\n",
        "\n",
        "# Uncomment the next line if you wish to store the animations as a gif\n",
        "# anim.save('./greedy-agent.gif', writer='imagemagick', fps=60)\n"
      ]
    },
    {
      "cell_type": "markdown",
      "metadata": {
        "id": "liI8-lBU2se2"
      },
      "source": [
        "you may try the previous block of code multiple times to see multiple animations. In general, you may realize that most of the actions are not explored by the agent, and that it will mostly stick to the one action that gave it some positive reward. The agent is good at evading negative values, but it will only land on the optimal action by pure chance.\n",
        "\n",
        "We can plot the average behavior by doing more experiments. The next plot displays the percentage of times the agent chose the optimal action over an average of 10000 experiments."
      ]
    },
    {
      "cell_type": "code",
      "execution_count": null,
      "metadata": {
        "colab": {
          "base_uri": "https://localhost:8080/",
          "height": 470
        },
        "id": "mBAlPJxg2se2",
        "outputId": "49f8e83b-2c7f-4681-8fdb-8c353c7585d6"
      },
      "outputs": [],
      "source": [
        "num_experiments = 10000\n",
        "num_steps = 1000\n",
        "num_actions = 10\n",
        "\n",
        "# Initialize the environment\n",
        "env = ArmedBanditsGaussian(num_experiments, num_actions)\n",
        "# Initialize the agent\n",
        "agent = GreedyAgent(np.zeros((num_experiments, num_actions)))\n",
        "\n",
        "# Store the scores and averages for later plotting\n",
        "averages = np.zeros((num_steps))\n",
        "optimality = np.zeros((num_steps))\n",
        "scores = np.zeros((num_experiments, num_steps+1))\n",
        "\n",
        "#Store the optimal actions for later use\n",
        "optimal = np.argmax(env.mean, axis=1)\n",
        "\n",
        "for i in tqdm(range(num_steps)):\n",
        "    # Select an action to execute on the environment\n",
        "    action = agent.get_action()\n",
        "    _, reward, _, _ = env.step(action)\n",
        "\n",
        "    # Update the agent estimates with the previously observed rewards\n",
        "    agent.update_estimates(reward, action)\n",
        "\n",
        "    # Store the average cumulative score and optimality of the current step\n",
        "    scores[:,i+1] = scores[:,i] + reward\n",
        "    avg_score = np.mean(scores[:,i+1]/(i+1))\n",
        "    averages[i] = avg_score\n",
        "\n",
        "    # Get optimal actions from the environment\n",
        "    current_optimality = np.mean(action == optimal)\n",
        "    optimality[i] = current_optimality\n",
        "\n",
        "plt.figure(figsize=(12,6), dpi=80, facecolor='w', edgecolor='k')\n",
        "plt.plot([1.0 for _ in range(num_steps)], linestyle='--')\n",
        "plt.plot([0.0 for _ in range(num_steps)], linestyle='--')\n",
        "plt.plot(optimality)\n",
        "plt.legend([\"Best Possible\", \"Worst Possible\", \"Greedy\"])\n",
        "plt.title(\"Average Optimality of Greedy Agent\", fontsize=14)\n",
        "plt.ylabel(\"% of Optimal Action Taken\")\n",
        "plt.xlabel(\"Steps\")\n",
        "plt.show()\n",
        "greedy_scores = averages\n",
        "greedy_optimality = optimality"
      ]
    },
    {
      "cell_type": "markdown",
      "metadata": {
        "id": "qWa-6MVh2se3"
      },
      "source": [
        "The Greedy Agent chooses the best action on average ~40% of the times. Additionally, extra experience won't improve it's score, as it usually lands on a sub-optimal action on the first steps, and stays there for ever. The Greedy Agent is not a good strategy for finding the optimal action on this scenario."
      ]
    },
    {
      "cell_type": "markdown",
      "metadata": {
        "id": "QKr4rdEa2se3"
      },
      "source": [
        "## The Epsilon-Greedy Agent\n",
        "\n",
        "Another strategy is the Epsilon Greedy Agent, which adds to the previous strategy. An Epsilon-Greedy Agent allows for some exploratory actions, by every once in a while choosing any action randomly, instead of always acting greedily. The probability of taking an exploratory action is defined by the parameter `epsilon`. An epsilon of `0` is a Greedy Agent. An epsilon of `0.2` means our agent takes a random action 20% of the time. An epsilon of `1` is an agent that behaves randomly. Let's build this new agent"
      ]
    },
    {
      "cell_type": "code",
      "execution_count": null,
      "metadata": {
        "id": "Poi42r3d2se3"
      },
      "outputs": [],
      "source": [
        "class EpsilonGreedyAgent(GreedyAgent):\n",
        "    def __init__(self, reward_estimates, epsilon):\n",
        "        GreedyAgent.__init__(self, reward_estimates)\n",
        "        # Store the epsilon value\n",
        "        assert epsilon >= 0 and epsilon <= 1\n",
        "        self.epsilon = epsilon\n",
        "\n",
        "    def get_action(self):\n",
        "        # We need to redefine this function so that it takes an exploratory action with epsilon probability\n",
        "\n",
        "        # One hot encoding: 0 if exploratory, 1 otherwise\n",
        "        action_type = (np.random.random_sample(self.num_experiments) > self.epsilon).astype(int)\n",
        "        # Generate both types of actions for every experiment\n",
        "        exploratory_action = np.random.randint(self.num_bandits, size=self.num_experiments)\n",
        "        greedy_action = argmax(self.reward_estimates)\n",
        "        # Use the one hot encoding to mask the actions for each experiment\n",
        "        action = greedy_action * action_type + exploratory_action * (1 - action_type)\n",
        "\n",
        "        self.action_count[np.arange(self.num_experiments), action] += 1\n",
        "\n",
        "        return action"
      ]
    },
    {
      "cell_type": "markdown",
      "metadata": {
        "id": "t1KQFxgD2se3"
      },
      "source": [
        "As may be seen, we're inheriting the `GreedyAgent` implementation, and only changing the `get_action` function. For taking an action, we're using a masking that defines which experiments will choose an action randomly and which will act greedily. Then, we apply that masking between random and greedy actions to obtain the action vector for all of our experiments."
      ]
    },
    {
      "cell_type": "markdown",
      "metadata": {
        "id": "f_hRV_Xk2se6"
      },
      "source": [
        "### Testing the Agent"
      ]
    },
    {
      "cell_type": "markdown",
      "metadata": {
        "id": "hPE2O8AU2se6"
      },
      "source": [
        "Here, we're going to use the same animation as before to observe how this new strategy behaves. Our agents will have a value of epsilon of `0.1`"
      ]
    },
    {
      "cell_type": "code",
      "execution_count": null,
      "metadata": {
        "colab": {
          "referenced_widgets": [
            "80e4bb527a0c4774a097a1534b213383",
            "f7bf92826b1e4d0ea70266bd394268c4"
          ]
        },
        "id": "SWWsxxsa2se7",
        "outputId": "a2bf3f66-e4dd-482d-a95e-083ed5647110"
      },
      "outputs": [],
      "source": [
        "# Initialize the environment of our multi-armed bandit problem\n",
        "num_experiments = 2\n",
        "num_bandits = 8\n",
        "num_steps = 200\n",
        "means = np.random.normal(size=(num_experiments, num_bandits))\n",
        "stdev = np.ones((num_experiments, num_bandits))\n",
        "\n",
        "env = ArmedBanditsEnv(means, stdev)\n",
        "\n",
        "# Initialize the agent\n",
        "agent = EpsilonGreedyAgent(np.zeros((num_experiments,num_bandits)), 0.1)\n",
        "\n",
        "# Code for plotting the interaction\n",
        "fig, axs = plt.subplots(1, num_experiments, figsize=(10, 4))\n",
        "x_pos = np.arange(num_bandits)\n",
        "\n",
        "def init():\n",
        "    for i in range(num_experiments):\n",
        "        init_ax(i)\n",
        "\n",
        "\n",
        "def init_ax(i):\n",
        "    ax = axs[i]\n",
        "    ax.clear()\n",
        "    ax.set_ylim(-4, 4)\n",
        "    ax.set_xlim(-0.5, num_bandits-.5)\n",
        "    ax.set_xlabel('Actions', fontsize=14)\n",
        "    ax.set_ylabel('Value', fontsize=14)\n",
        "    ax.set_title(label='Estimated Values vs. Real values', fontsize=15)\n",
        "    ax.plot(x_pos, env.mean[i], marker='D', linestyle='', alpha=0.8, color='r', label='Real Values')\n",
        "    ax.axhline(0, color='black', lw=1)\n",
        "\n",
        "# Implement a step, which involves the agent acting upon the\n",
        "# environment and learning from the received reward.\n",
        "def step(g):\n",
        "    action = agent.get_action()\n",
        "    _, reward, _, _ = env.step(action)\n",
        "    agent.update_estimates(reward, action)\n",
        "    for i in range(num_experiments):\n",
        "        ax = axs[i]\n",
        "        # Plot the estimated values from the agent compared to the real values\n",
        "        estimates = agent.reward_estimates[i]\n",
        "        init_ax(i)\n",
        "        values = ax.bar(x_pos, estimates, align='center', color='blue', alpha=0.4, label='Estimated Values')\n",
        "        ax.legend()\n",
        "\n",
        "anim = FuncAnimation(fig, func=step, frames=np.arange(num_steps), init_func=init, interval=10, repeat=False, blit=True)\n",
        "plt.show()\n",
        "\n",
        "# Uncomment the next line if you wish to store the animations as a gif\n",
        "# anim.save('./epsilon-greedy-agent.gif', writer='imagemagick', fps=60)"
      ]
    },
    {
      "cell_type": "markdown",
      "metadata": {
        "id": "kQBszQNX2se7"
      },
      "source": [
        "Again, you may run the previous block multiple times to see different runs. As can be observed, the epsilon-greedy agent not only finds the optimal solution most of the times, but it is also capable of finding close estimated values for all the actions! How does our new strategy compares to the greedy agent on average?"
      ]
    },
    {
      "cell_type": "code",
      "execution_count": null,
      "metadata": {
        "id": "gUk7GyL22se7"
      },
      "outputs": [],
      "source": [
        "def run_experiment(num_experiments=1000, num_steps=1000, num_actions=10,epsilon=0.1):\n",
        "    # Initialize the environment\n",
        "    env = ArmedBanditsGaussian(num_experiments, num_actions)\n",
        "    # Initialize the agent\n",
        "    agent = EpsilonGreedyAgent(np.zeros((num_experiments, num_actions)), epsilon)\n",
        "\n",
        "    # Store the scores and averages for later plotting\n",
        "    averages = np.zeros((num_steps))\n",
        "    optimality = np.zeros((num_steps))\n",
        "    scores = np.zeros((num_experiments, num_steps+1))\n",
        "\n",
        "    #Store the optimal actions for later use\n",
        "    optimal = np.argmax(env.mean, axis=1)\n",
        "\n",
        "    for i in tqdm(range(num_steps)):\n",
        "        # Select an action to execute on the environment\n",
        "        action = agent.get_action()\n",
        "        _, reward, _, _ = env.step(action)\n",
        "\n",
        "        # Update the agent estimates with the previously observed rewards\n",
        "        agent.update_estimates(reward, action)\n",
        "\n",
        "        # Store the average cumulative score and optimality of the current step\n",
        "        scores[:,i+1] = scores[:,i] + reward\n",
        "        avg_score = np.mean(scores[:,i+1]/(i+1))\n",
        "        averages[i] = avg_score\n",
        "\n",
        "        # Get optimal actions from the environment\n",
        "        current_optimality = np.mean(action == optimal)\n",
        "        optimality[i] = current_optimality\n",
        "    return optimality, averages"
      ]
    },
    {
      "cell_type": "code",
      "execution_count": null,
      "metadata": {
        "colab": {
          "referenced_widgets": [
            "ee23248ec89842c38e0a0ceb72fc232b",
            "b929f3fc9e414c4db31e2c9a00e617b1"
          ]
        },
        "id": "RLNOrcM82se7",
        "outputId": "edab55e8-00ab-4a91-ad48-da7a5c159836"
      },
      "outputs": [],
      "source": [
        "num_experiments = 10000\n",
        "num_steps = 1000\n",
        "num_actions = 10\n",
        "epsilon = 0.1\n",
        "\n",
        "balanced_eps_optimality, balanced_eps_scores = run_experiment(num_experiments, num_steps, num_actions, epsilon)\n",
        "\n",
        "plt.figure(figsize=(12,6), dpi=80, facecolor='w', edgecolor='k')\n",
        "plt.plot([1.0 for _ in range(num_steps)], linestyle='--')\n",
        "plt.plot([0.0 for _ in range(num_steps)], linestyle='--')\n",
        "plt.plot(balanced_eps_optimality)\n",
        "plt.plot(greedy_optimality)\n",
        "plt.legend([\"Best Possible\", \"Worst Possible\", \"0.1 $\\epsilon$ Greedy\", \"Greedy\"])\n",
        "plt.title(\"Average Optimality of Greedy Agent vs Epsilon-Greedy Agent\")\n",
        "plt.ylabel(\"% of Optimal Action Taken\")\n",
        "plt.xlabel(\"Steps\")\n",
        "plt.show()"
      ]
    },
    {
      "cell_type": "markdown",
      "metadata": {
        "id": "h6yXM3Rw2se8"
      },
      "source": [
        "After 1000 steps, the Epsilon-Greedy Agent is capable of reaching an 80% average optimality. This means that on average, they choose the best possible action 80% of the times after that amount of iterations. We can also see how our agent is capable of improving from experience, contrary to the Greedy Agent."
      ]
    },
    {
      "cell_type": "markdown",
      "metadata": {
        "id": "vOGGfJRm2se8"
      },
      "source": [
        "## Values for epsilon"
      ]
    },
    {
      "cell_type": "markdown",
      "metadata": {
        "id": "4zx_9bwy2se8"
      },
      "source": [
        "On the previous example, we used a value for `epsilon` of `0.1`. This means that the agent chose an exploratory action 10% of the times. What would have happened if we chose another action? Like with almost all hyper-parameters in Machine Learning, there's a range of values which behave better than others. Let's make an actual experiment using different values for `epsilon`"
      ]
    },
    {
      "cell_type": "code",
      "execution_count": null,
      "metadata": {
        "colab": {
          "referenced_widgets": [
            "c99d5001fc2a433e8f37c90ddc673b5d",
            "c7cf0cf405e24d7880b8277334aff30b"
          ]
        },
        "id": "G-OedWQ72se8",
        "outputId": "65281e44-d1c6-47f3-cf38-1d6af30e862a"
      },
      "outputs": [],
      "source": [
        "num_experiments = 1000\n",
        "num_steps = 1000\n",
        "num_actions = 10\n",
        "epsilons = np.array([0.0, 0.01, 0.1, 0.4])\n",
        "\n",
        "plt.figure(figsize=(12,6), dpi=80, facecolor='w', edgecolor='k')\n",
        "# plt.plot([1.6 for _ in range(num_steps)], linestyle='--') # why 1.6?\n",
        "\n",
        "\n",
        "for epsilon in epsilons:\n",
        "    _, reward = run_experiment(num_experiments, num_steps, num_actions, epsilon)\n",
        "\n",
        "    plt.plot(reward)\n",
        "\n",
        "# plt.legend([\"Best Possible\"] + epsilons.tolist())\n",
        "plt.legend(epsilons.tolist())\n",
        "plt.title(\"Average reward for multiple values of epsilon\")\n",
        "plt.xlabel(\"Steps\")\n",
        "plt.ylabel(\"Average Reward\")\n",
        "plt.show()"
      ]
    },
    {
      "cell_type": "markdown",
      "metadata": {
        "id": "e2NwECSH2se8"
      },
      "source": [
        "Here, we're plotting the average amount of reward received by the agent. This is because plotting the optimality on this many tests gets too crowded and noisy. As can be seen, the agent with an epsilon of `0.1` was the one that received the most amount of reward. Values of epsilon that are too small take very few exploratory actions, and therefore take a long time to explore and find the most optimal value. On the other hand, values of `epsilon` too high will obstruct the capacity of the agent of acting optimally. Too much exploration gets in the way of exploitation."
      ]
    },
    {
      "cell_type": "markdown",
      "metadata": {
        "id": "32BlCjd3HvId"
      },
      "source": [
        "***\n",
        "## Part B questions\n",
        "\n",
        "Now that we have familiarized ourselves with the basic setup let us test a few more stratergies as part of the assignment problem.\n",
        "\n",
        "Consider a two-armed Bernoulli bandit scenario with true means given by $\\mu_1 = \\frac{1}{2}, \\mu_2= \\frac{1}{2}+\\Delta$, for some $\\Delta < \\frac{1}{2}$. Let the time horizon be $T=10000$. `[20 Marks]`"
      ]
    },
    {
      "cell_type": "markdown",
      "metadata": {},
      "source": [
        "### B1\n",
        "Take $\\Delta=\\frac{1}{4}$ and run the Monte Carlo simulations to estimate the expected regret of the ETC algorithm which explores each arm $m = T^{2/3} (\\log T)^{1/3}$ times before committing. Specifically, you run the ETC algorithm to compute the sample regret \n",
        "$$ \\mu_2 * T - \\sum_{t=1}^T R_t, $$ \n",
        "where $R_t$ is the reward obtained in time step $t$.\n",
        "\n",
        "Repeat this experiment 500 times and estimate the expected regret by taking the average of the sample regrets you obtained in all those 500 experiments. `[5 Marks]`"
      ]
    },
    {
      "cell_type": "code",
      "execution_count": 12,
      "metadata": {},
      "outputs": [
        {
          "name": "stdout",
          "output_type": "stream",
          "text": [
            "241.292\n"
          ]
        }
      ],
      "source": [
        "# write your code for the above part here\n",
        "T = 10000\n",
        "m = (int)(T**(2/3) * (np.log(T))**(1/3))\n",
        "def ETC(delta,m):\n",
        "    delta = 1/4\n",
        "    u1 = 1/2\n",
        "    u2 = 1/2 + delta\n",
        "    regret = np.zeros(500)\n",
        "    for i in range(500):\n",
        "        x1 = 0\n",
        "        x2 = 0\n",
        "        for j in range(m):\n",
        "            x = np.random.binomial(1, u1)\n",
        "            x1 += x\n",
        "            regret[i] += u2-x\n",
        "        x1 = x1/m    \n",
        "        for j in range(m):\n",
        "            x = np.random.binomial(1,u2)\n",
        "            x2 += x\n",
        "            regret[i] += u2-x\n",
        "        x2 = x2/m\n",
        "        u = u1 if x1>x2 else u2\n",
        "        for j in range(T-2*m):\n",
        "            x = np.random.binomial(1,u)\n",
        "            regret[i] += u2-x\n",
        "    reg = np.mean(regret) \n",
        "    return reg\n",
        "\n",
        "\n",
        "reg= ETC(1/4,m) \n",
        "print(reg)      "
      ]
    },
    {
      "cell_type": "markdown",
      "metadata": {},
      "source": [
        "### B2\n",
        "\n",
        "Repeat the above for various values of $\\Delta \\in \\{0.05, 0.1, 0.2, 0.3, 0.4, 0.45\\}$ and plot the estimated regret as a function of $\\Delta$ and verify whether it satisfies the regret upper bound we derived in class. `[5 Marks]`"
      ]
    },
    {
      "cell_type": "code",
      "execution_count": 13,
      "metadata": {},
      "outputs": [
        {
          "name": "stdout",
          "output_type": "stream",
          "text": [
            "[244.818, 243.026, 240.826, 242.478, 244.714, 244.78]\n",
            "[0.05, 0.1, 0.2, 0.3, 0.4, 0.45]\n"
          ]
        }
      ],
      "source": [
        "# write your code for the above part here\n",
        "delta = [0.05,0.1,0.2,0.3,0.4,0.45]\n",
        "regret = []\n",
        "for d in delta:\n",
        "    regret.append(ETC(d,m))\n",
        "\n",
        "print(regret)\n",
        "print(delta)    \n",
        "\n",
        "T = 10000\n",
        "Upper_Bound = (int)(T**(2/3) * (np.log(T))**(1/3))\n",
        "Upper_Bound = [Upper_Bound]*len(delta)\n"
      ]
    },
    {
      "cell_type": "code",
      "execution_count": 4,
      "metadata": {},
      "outputs": [
        {
          "data": {
            "application/vnd.jupyter.widget-view+json": {
              "model_id": "5e97999d15f4427189b63ae339c5b60e",
              "version_major": 2,
              "version_minor": 0
            },
            "image/png": "[encoded data removed]",
            "text/html": [
              "\n",
              "            <div style=\"display: inline-block;\">\n",
              "                <div class=\"jupyter-widgets widget-label\" style=\"text-align: center;\">\n",
              "                    Figure\n",
              "                </div>\n",
              "                <img src='data:image/png;base64,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' width=640.0/>\n",
              "            </div>\n",
              "        "
            ],
            "text/plain": [
              "Canvas(toolbar=Toolbar(toolitems=[('Home', 'Reset original view', 'home', 'home'), ('Back', 'Back to previous …"
            ]
          },
          "metadata": {},
          "output_type": "display_data"
        },
        {
          "data": {
            "application/vnd.jupyter.widget-view+json": {
              "model_id": "7f572f5ad54a4130b437e8b69c32b166",
              "version_major": 2,
              "version_minor": 0
            },
            "image/png": "[encoded data removed]",
            "text/html": [
              "\n",
              "            <div style=\"display: inline-block;\">\n",
              "                <div class=\"jupyter-widgets widget-label\" style=\"text-align: center;\">\n",
              "                    Figure\n",
              "                </div>\n",
              "                <img src='data:image/png;base64,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' width=640.0/>\n",
              "            </div>\n",
              "        "
            ],
            "text/plain": [
              "Canvas(toolbar=Toolbar(toolitems=[('Home', 'Reset original view', 'home', 'home'), ('Back', 'Back to previous …"
            ]
          },
          "metadata": {},
          "output_type": "display_data"
        }
      ],
      "source": [
        "# Create a new figure\n",
        "plt.figure()\n",
        "\n",
        "# Plot the first graph\n",
        "plt.plot(delta, regret, label='Delta vs Regret')\n",
        "\n",
        "# Plot the second graph\n",
        "plt.figure()\n",
        "plt.plot(delta, Upper_Bound, label='Upper Bound vs Regret')\n",
        "\n",
        "# Add labels and title for the second graph\n",
        "plt.xlabel('Upper Bound')\n",
        "plt.ylabel('Regret')\n",
        "plt.title('Regret vs Delta')\n",
        "\n",
        "# Add a legend for the second graph\n",
        "plt.legend()\n",
        "\n",
        "# Show the second plot\n",
        "plt.show()"
      ]
    },
    {
      "cell_type": "markdown",
      "metadata": {},
      "source": [
        "### B3 \n",
        "Repeat the experiment with the UCB algorithm and plot the comparison with ETC. `[10 Marks]`"
      ]
    },
    {
      "cell_type": "code",
      "execution_count": 9,
      "metadata": {},
      "outputs": [
        {
          "name": "stdout",
          "output_type": "stream",
          "text": [
            "41.678\n"
          ]
        }
      ],
      "source": [
        "# write your code for the above part here\n",
        "u1 = 0.5\n",
        "u2 = 0.75\n",
        "reward_ucb = 0\n",
        "reward_iteration_ucb = []\n",
        "def epsilon(n):\n",
        "    return np.sqrt(1.5*np.log(T)/n)\n",
        "for j in range(500):\n",
        "    x1_rec = []\n",
        "    x2_rec = []\n",
        "    reward_ucb = 0 \n",
        "    for i in range(10000):\n",
        "        if i == 0:\n",
        "            x1 = np.random.binomial(1, u1)\n",
        "            x1_rec.append(x1)\n",
        "            reward_ucb += u2 - x1\n",
        "        elif i == 1:\n",
        "            x2 = np.random.binomial(1, u2)\n",
        "            x2_rec.append(x2)\n",
        "            reward_ucb += u2 - x2\n",
        "        elif ((np.mean(x1_rec) + epsilon(len(x1_rec))) >= (np.mean(x2_rec) + epsilon(len(x2_rec)))):\n",
        "            x1 = np.random.binomial(1, u1)\n",
        "            x1_rec.append(x1)\n",
        "            reward_ucb += u2 - x1\n",
        "        else:\n",
        "            x2 = np.random.binomial(1, u2)\n",
        "            x2_rec.append(x2)  \n",
        "            reward_ucb += u2 - x2\n",
        "    reward_iteration_ucb.append(reward_ucb)   \n",
        "\n",
        "print(np.mean(reward_iteration_ucb))      "
      ]
    },
    {
      "cell_type": "markdown",
      "metadata": {},
      "source": [
        "### B4\n",
        "(**Bonus**) In the ETC algorithm, assume that we know $\\Delta$, and choose a better $m$ as function of $\\Delta$ and repeat the experiments and compare with UCB. What did you observe?\n",
        "\n",
        "Hint: Check how many samples of exploration are required to make $\\epsilon < \\frac{\\Delta}{2}$ with a high probability of $1-\\frac{1}{T}$. `[5 Marks]`"
      ]
    },
    {
      "cell_type": "code",
      "execution_count": 25,
      "metadata": {},
      "outputs": [
        {
          "name": "stdout",
          "output_type": "stream",
          "text": [
            "294\n",
            "True\n"
          ]
        }
      ],
      "source": [
        "# write your code for the above part here \n",
        "#considering the equation given in the notes m >= (2logT)/Delta^2 \n",
        "d = 1/4\n",
        "m_new = (int)(2*np.log(T)/(d**2))\n",
        "print(m_new)\n",
        "\n",
        "#checking if m_new is experimentally correct or not\n",
        "def check(u):\n",
        "    truth = 0\n",
        "    for i in range(12000):\n",
        "        x = 0\n",
        "        for j in range(m_new):\n",
        "            x += np.random.binomial(1,u)\n",
        "        x = x/m_new\n",
        "        if np.abs(x-u)<0.25:\n",
        "            truth += 1 \n",
        "    truth = truth/12000\n",
        "    return truth        \n",
        "\n",
        "print(check(0.5)>(1-1/T) and check(0.75)>(1-1/T))        "
      ]
    },
    {
      "cell_type": "code",
      "execution_count": 22,
      "metadata": {},
      "outputs": [
        {
          "name": "stdout",
          "output_type": "stream",
          "text": [
            "75.372\n"
          ]
        }
      ],
      "source": [
        "print(ETC(d,m_new))"
      ]
    },
    {
      "cell_type": "markdown",
      "metadata": {},
      "source": [
        "### Though still inferior, the reward of the ETC with m_new is now very comparable to UCB algorithm"
      ]
    }
  ],
  "metadata": {
    "colab": {
      "provenance": []
    },
    "kernelspec": {
      "display_name": "Python 3 (ipykernel)",
      "language": "python3",
      "name": "python3"
    },
    "language_info": {
      "codemirror_mode": {
        "name": "ipython",
        "version": 3
      },
      "file_extension": ".py",
      "mimetype": "text/x-python",
      "name": "python",
      "nbconvert_exporter": "python",
      "pygments_lexer": "ipython3",
      "version": "3.11.7"
    }
  },
  "nbformat": 4,
  "nbformat_minor": 0
}
